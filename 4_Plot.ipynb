{
 "cells": [
  {
   "cell_type": "code",
   "execution_count": null,
   "metadata": {},
   "outputs": [],
   "source": [
    "import os\n",
    "\n",
    "import cv2\n",
    "import imutils"
   ]
  },
  {
   "cell_type": "code",
   "execution_count": null,
   "metadata": {},
   "outputs": [],
   "source": [
    "import matplotlib.pyplot as plt\n",
    "plt.rcParams['figure.figsize'] = (6, 4) # set figure size\n",
    "    \n",
    "%matplotlib inline\n",
    "%config InlineBackend.figure_format = 'svg' # high quality (small or medium amount of data)"
   ]
  },
  {
   "cell_type": "code",
   "execution_count": null,
   "metadata": {},
   "outputs": [],
   "source": [
    "%load_ext watermark\n",
    "%watermark -v -m -p cv2,imutils,matplotlib"
   ]
  },
  {
   "cell_type": "code",
   "execution_count": null,
   "metadata": {},
   "outputs": [],
   "source": [
    "def read_image(file_name: str, margin: int = 1000):\n",
    "    # Open image\n",
    "    img = cv2.imread(file_name)\n",
    "    img = cv2.copyMakeBorder(img, margin, margin, margin, margin, borderType=cv2.BORDER_CONSTANT, value=(255, 255, 255))\n",
    "\n",
    "    # Resize the image\n",
    "    rsz = imutils.resize(img, height=1000)\n",
    "\n",
    "    # Calculate the ratio\n",
    "    ratio = img.shape[0] / rsz.shape[0]\n",
    "\n",
    "    return img, rsz, ratio"
   ]
  },
  {
   "cell_type": "code",
   "execution_count": null,
   "metadata": {},
   "outputs": [],
   "source": [
    "def cv_show(img, label='Image'):\n",
    "    cv2.imshow(label, img)\n",
    "    cv2.waitKey(0)\n",
    "    cv2.destroyAllWindows()"
   ]
  },
  {
   "cell_type": "code",
   "execution_count": null,
   "metadata": {},
   "outputs": [],
   "source": [
    "def plt_show(img, label='Image', is_BGR=True):\n",
    "    plt.figure(figsize=(8,16))\n",
    "    \n",
    "    plt.axis(\"off\")\n",
    "    if is_BGR:\n",
    "        img = cv2.cvtColor(img, cv2.COLOR_BGR2RGB)\n",
    "    plt.imshow(img)\n",
    "    plt.title(label, fontsize=12)\n",
    "    \n",
    "    plt.show()"
   ]
  },
  {
   "cell_type": "code",
   "execution_count": null,
   "metadata": {},
   "outputs": [],
   "source": [
    "iputdir = 'photo_2_crop'\n",
    "file_name = '2022-12-13-0011_p0-6.png'\n",
    "\n",
    "img_BGR, rsz_BGR, ratio = read_image(os.path.join(iputdir, file_name), margin=0)"
   ]
  },
  {
   "cell_type": "code",
   "execution_count": null,
   "metadata": {},
   "outputs": [],
   "source": [
    "cv_show(rsz_BGR, label='Resized')"
   ]
  },
  {
   "cell_type": "code",
   "execution_count": null,
   "metadata": {},
   "outputs": [],
   "source": [
    "plt_show(rsz_BGR, label='Resized')"
   ]
  },
  {
   "cell_type": "code",
   "execution_count": null,
   "metadata": {},
   "outputs": [],
   "source": [
    "import matplotlib.image as mpimg\n",
    "\n",
    "img_RGB = mpimg.imread(os.path.join(iputdir, file_name))"
   ]
  },
  {
   "cell_type": "code",
   "execution_count": null,
   "metadata": {},
   "outputs": [],
   "source": [
    "plt_show(img_RGB, label='Resized', is_BGR=False)"
   ]
  }
 ],
 "metadata": {
  "kernelspec": {
   "display_name": "grigorygunko_textextractor_python395",
   "language": "python",
   "name": "grigorygunko_textextractor_python395"
  },
  "language_info": {
   "codemirror_mode": {
    "name": "ipython",
    "version": 3
   },
   "file_extension": ".py",
   "mimetype": "text/x-python",
   "name": "python",
   "nbconvert_exporter": "python",
   "pygments_lexer": "ipython3",
   "version": "3.9.5"
  }
 },
 "nbformat": 4,
 "nbformat_minor": 4
}
