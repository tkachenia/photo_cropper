{
 "cells": [
  {
   "cell_type": "code",
   "execution_count": 1,
   "metadata": {},
   "outputs": [],
   "source": [
    "import os\n",
    "\n",
    "import cv2\n",
    "\n",
    "import fitz\n",
    "from tqdm import tqdm"
   ]
  },
  {
   "cell_type": "code",
   "execution_count": 3,
   "metadata": {},
   "outputs": [
    {
     "name": "stdout",
     "output_type": "stream",
     "text": [
      "The watermark extension is already loaded. To reload it, use:\n",
      "  %reload_ext watermark\n",
      "Python implementation: CPython\n",
      "Python version       : 3.9.5\n",
      "IPython version      : 8.7.0\n",
      "\n",
      "fitz: ('1.21.0', '1.21.0', '20221108000001')\n",
      "cv2 : 4.6.0\n",
      "\n",
      "Compiler    : MSC v.1916 64 bit (AMD64)\n",
      "OS          : Windows\n",
      "Release     : 10\n",
      "Machine     : AMD64\n",
      "Processor   : Intel64 Family 6 Model 69 Stepping 1, GenuineIntel\n",
      "CPU cores   : 4\n",
      "Architecture: 64bit\n",
      "\n"
     ]
    }
   ],
   "source": [
    "%load_ext watermark\n",
    "%watermark -v -m -p fitz,cv2"
   ]
  },
  {
   "cell_type": "code",
   "execution_count": 4,
   "metadata": {},
   "outputs": [],
   "source": [
    "workdir = 'pdf_book'\n",
    "pdf_name = 'Бланшар. Одноминутный менеджер и ситуационное руководство.pdf'"
   ]
  },
  {
   "cell_type": "code",
   "execution_count": 5,
   "metadata": {},
   "outputs": [],
   "source": [
    "def add_page(doc, png_name, factor=None):\n",
    "    img = fitz.open(png_name)  # open pic as document\n",
    "    rect = img[0].rect  # pic dimension\n",
    "    if factor: rect /= factor\n",
    "    pdfbytes = img.convert_to_pdf()  # make a PDF stream\n",
    "    img.close()  # no longer needed\n",
    "    imgPDF = fitz.open(\"pdf\", pdfbytes)  # open stream as PDF\n",
    "    page = doc.new_page(width  = rect.width,  # new page with ...\n",
    "                        height = rect.height)  # pic dimension\n",
    "    page.show_pdf_page(rect, imgPDF, 0)  # image fills the page\n",
    "    imgPDF.close()"
   ]
  },
  {
   "cell_type": "code",
   "execution_count": 6,
   "metadata": {},
   "outputs": [
    {
     "name": "stderr",
     "output_type": "stream",
     "text": [
      "100%|██████████████████████████████████████████████████████████████████████████████████| 72/72 [00:30<00:00,  2.34it/s]"
     ]
    },
    {
     "name": "stdout",
     "output_type": "stream",
     "text": [
      "Done!\n"
     ]
    },
    {
     "name": "stderr",
     "output_type": "stream",
     "text": [
      "\n"
     ]
    }
   ],
   "source": [
    "doc_out = fitz.open()\n",
    "\n",
    "doc_in = fitz.Document(os.path.join(workdir, pdf_name))\n",
    "for i in tqdm(range(len(doc_in))):\n",
    "    for img in doc_in.get_page_images(i):\n",
    "        xref = img[0]\n",
    "        pix = fitz.Pixmap(doc_in, xref)\n",
    "        pix.save(os.path.join(workdir, 'lr.png'))\n",
    "\n",
    "        lr = cv2.imread(os.path.join(workdir, 'lr.png'))\n",
    "        l = lr[:,:lr.shape[1]//2, :]\n",
    "        r = lr[:,lr.shape[1]//2:, :]\n",
    "        cv2.imwrite(os.path.join(workdir, 'l.png'), l)\n",
    "        cv2.imwrite(os.path.join(workdir, 'r.png'), r)\n",
    "\n",
    "        add_page(doc_out, os.path.join(workdir, 'l.png'), factor=3)\n",
    "        add_page(doc_out, os.path.join(workdir, 'r.png'), factor=3)\n",
    "\n",
    "doc_out.save(os.path.join(workdir, pdf_name.replace('.pdf', '_splitted.pdf')))\n",
    "\n",
    "print(\"Done!\")"
   ]
  },
  {
   "cell_type": "code",
   "execution_count": null,
   "metadata": {},
   "outputs": [],
   "source": []
  }
 ],
 "metadata": {
  "kernelspec": {
   "display_name": "grigorygunko_textextractor_python395",
   "language": "python",
   "name": "grigorygunko_textextractor_python395"
  },
  "language_info": {
   "codemirror_mode": {
    "name": "ipython",
    "version": 3
   },
   "file_extension": ".py",
   "mimetype": "text/x-python",
   "name": "python",
   "nbconvert_exporter": "python",
   "pygments_lexer": "ipython3",
   "version": "3.9.5"
  }
 },
 "nbformat": 4,
 "nbformat_minor": 4
}
