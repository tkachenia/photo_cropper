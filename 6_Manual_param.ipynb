{
 "cells": [
  {
   "cell_type": "code",
   "execution_count": 7,
   "metadata": {},
   "outputs": [],
   "source": [
    "import os\n",
    "\n",
    "import cv2\n",
    "import imutils\n",
    "\n",
    "import numpy as np"
   ]
  },
  {
   "cell_type": "code",
   "execution_count": 8,
   "metadata": {},
   "outputs": [
    {
     "name": "stdout",
     "output_type": "stream",
     "text": [
      "The watermark extension is already loaded. To reload it, use:\n",
      "  %reload_ext watermark\n",
      "Python implementation: CPython\n",
      "Python version       : 3.9.5\n",
      "IPython version      : 8.7.0\n",
      "\n",
      "cv2    : 4.6.0\n",
      "imutils: 0.5.4\n",
      "numpy  : 1.23.5\n",
      "\n",
      "Compiler    : MSC v.1916 64 bit (AMD64)\n",
      "OS          : Windows\n",
      "Release     : 10\n",
      "Machine     : AMD64\n",
      "Processor   : Intel64 Family 6 Model 69 Stepping 1, GenuineIntel\n",
      "CPU cores   : 4\n",
      "Architecture: 64bit\n",
      "\n"
     ]
    }
   ],
   "source": [
    "%load_ext watermark\n",
    "%watermark -v -m -p cv2,imutils,numpy"
   ]
  },
  {
   "cell_type": "code",
   "execution_count": 18,
   "metadata": {},
   "outputs": [],
   "source": [
    "def read_image(file_name, margin = 1000):\n",
    "    # Open image\n",
    "    img = cv2.imread(file_name)\n",
    "    if margin:\n",
    "        img = cv2.copyMakeBorder(img, margin, margin, margin, margin, borderType=cv2.BORDER_CONSTANT, value=(255, 255, 255))\n",
    "\n",
    "    return img\n",
    "\n",
    "def resize_image(img, height=1000):\n",
    "    # Resize the image\n",
    "    rsz = imutils.resize(img, height=height)\n",
    "\n",
    "    # Calculate the ratio\n",
    "    ratio = img.shape[0] / rsz.shape[0]\n",
    "    \n",
    "    return rsz, ratio\n",
    "\n",
    "def rotate(img, angle, center = None, scale = 1.0):\n",
    "    (h, w) = img.shape[:2]\n",
    "\n",
    "    if center is None:\n",
    "        center = (w / 2, h / 2)\n",
    "\n",
    "    # Perform the rotation\n",
    "    M = cv2.getRotationMatrix2D(center, angle, scale)\n",
    "    rtt = cv2.warpAffine(img, M, (w, h), flags=cv2.INTER_LINEAR, borderValue=(255, 255, 255))\n",
    "\n",
    "    return rtt"
   ]
  },
  {
   "cell_type": "code",
   "execution_count": 19,
   "metadata": {},
   "outputs": [],
   "source": [
    "def onMouse(event, x, y, flags, param):\n",
    "    img, pos_list = param\n",
    "    if event == cv2.EVENT_LBUTTONDOWN:\n",
    "        pos_list.append((x, y))\n",
    "        cv2.circle(img, pos_list[-1], 5, (0,0,255), -1)"
   ]
  },
  {
   "cell_type": "code",
   "execution_count": 20,
   "metadata": {},
   "outputs": [],
   "source": [
    "def cv_crop_image(img, label, height=900, threshold=False, verbose=False):\n",
    "    rsz, ratio = resize_image(img, height=height)\n",
    "    if threshold:\n",
    "        rsz = cv2.cvtColor(rsz, cv2.COLOR_BGR2GRAY)\n",
    "        rsz = cv2.adaptiveThreshold(rsz, 255, cv2.ADAPTIVE_THRESH_MEAN_C, cv2.THRESH_BINARY, 5, 0)\n",
    "        rsz = cv2.cvtColor(rsz, cv2.COLOR_GRAY2BGR)\n",
    "    \n",
    "    image = rsz.copy()\n",
    "    pos_list = []\n",
    "    \n",
    "    rect_rsz = None\n",
    "    label = label+' ~ Cropping'\n",
    "    cv2.namedWindow(label)\n",
    "    cv2.setMouseCallback(label, onMouse, param=(image, pos_list))\n",
    "    while True:\n",
    "        cv2.imshow(label, image)\n",
    "        \n",
    "        key = cv2.waitKey(20) & 0xFF\n",
    "        if key == 27: # Escape\n",
    "            pos_list = []\n",
    "            image = rsz.copy()\n",
    "            cv2.setMouseCallback(label, onMouse, param=(image, pos_list))\n",
    "        elif key in (13, 32): # Enter or Space\n",
    "            if verbose: print(pos_list)\n",
    "            rect_rsz = np.asarray(pos_list).reshape([-1, 1, 2])\n",
    "            break\n",
    "    cv2.destroyAllWindows()\n",
    "    \n",
    "    rect_img = ((rect_rsz.astype('float'))*ratio).astype('int')\n",
    "    x, y, w, h = cv2.boundingRect(rect_img)\n",
    "    img = img[y:y+h, x:x+w, :]\n",
    "    \n",
    "    return img\n",
    "\n",
    "def cv_rotate_image(img, label, height=900, threshold=False, verbose=False):\n",
    "    rsz, ratio = resize_image(img, height=height)\n",
    "    if threshold:\n",
    "        rsz = cv2.cvtColor(rsz, cv2.COLOR_BGR2GRAY)\n",
    "        rsz = cv2.adaptiveThreshold(rsz, 255, cv2.ADAPTIVE_THRESH_MEAN_C, cv2.THRESH_BINARY, 21 , 2)\n",
    "        rsz = cv2.cvtColor(rsz, cv2.COLOR_GRAY2BGR)\n",
    "\n",
    "    image = rsz.copy()\n",
    "    pos_list = []\n",
    "    \n",
    "    left, right = None, None\n",
    "    label = label+' ~ Angle'\n",
    "    cv2.namedWindow(label)\n",
    "    cv2.setMouseCallback(label, onMouse, param=(image, pos_list))\n",
    "    while True:\n",
    "        cv2.imshow(label, image)\n",
    "        \n",
    "        key = cv2.waitKey(20) & 0xFF\n",
    "        if key == 27: # Escape\n",
    "            pos_list.clear()\n",
    "            image[:,:,:] = rsz\n",
    "        elif key in (13, 32): # Enter or Space\n",
    "            if len(pos_list) < 2:\n",
    "                continue\n",
    "            if verbose: print(pos_list)\n",
    "            left, right = pos_list[:2]\n",
    "            break\n",
    "    cv2.destroyAllWindows()\n",
    "    \n",
    "    angle = np.arctan( (right[1]-left[1])/(right[0]-left[0]) ) * 180 / np.pi\n",
    "    if verbose: print(angle)\n",
    "        \n",
    "    img = rotate(img, angle)\n",
    "    \n",
    "    return img\n",
    "\n",
    "def cv_save_image(img, file_name, label, verbose=False):\n",
    "    rsz, ratio = resize_image(img, height=800)\n",
    "    done = False\n",
    "    \n",
    "    label = label+' ~ Result'\n",
    "    cv2.namedWindow(label)\n",
    "\n",
    "    cv2.imshow(label, rsz)\n",
    "\n",
    "    key = cv2.waitKey() & 0xFF\n",
    "    if key == 27: # Escape\n",
    "        done = False\n",
    "    elif key in (13, 32): # Enter or Space\n",
    "        cv2.imwrite(file_name, img)\n",
    "        done = True\n",
    "        \n",
    "    cv2.destroyAllWindows()\n",
    "    \n",
    "    return done"
   ]
  },
  {
   "cell_type": "code",
   "execution_count": 21,
   "metadata": {},
   "outputs": [],
   "source": [
    "def cv2_manual_photo(file_name, iputdir='', oputdir='', label=None):\n",
    "    oputdir = oputdir or iputdir\n",
    "    img = read_image(os.path.join(iputdir, file_name), margin=0)\n",
    "\n",
    "    while True:\n",
    "        img_proc = cv_crop_image(img, label=label, threshold=True)\n",
    "\n",
    "        img_proc = cv_rotate_image(img_proc, label=label, threshold=True)\n",
    "\n",
    "        img_proc = cv_crop_image(img_proc, label=label, threshold=True)\n",
    "        \n",
    "        if cv_save_image(img_proc, os.path.join(oputdir, file_name.replace('_orig.png', '.png')), label=label):\n",
    "            break"
   ]
  },
  {
   "cell_type": "code",
   "execution_count": 22,
   "metadata": {
    "scrolled": false
   },
   "outputs": [
    {
     "name": "stdout",
     "output_type": "stream",
     "text": [
      "Done!\n"
     ]
    }
   ],
   "source": [
    "iputdir = 'photo_2_crop'\n",
    "\n",
    "png_name_list = [png for png in os.listdir(iputdir) if png.endswith('_orig.png')]\n",
    "for i, png_name in enumerate(png_name_list, start=1):\n",
    "    cv2_manual_photo(png_name, iputdir, label='[{} of {}] {}'.format(i, len(png_name_list), png_name))\n",
    "        \n",
    "print(\"Done!\")"
   ]
  },
  {
   "cell_type": "code",
   "execution_count": null,
   "metadata": {},
   "outputs": [],
   "source": []
  }
 ],
 "metadata": {
  "kernelspec": {
   "display_name": "grigorygunko_textextractor_python395",
   "language": "python",
   "name": "grigorygunko_textextractor_python395"
  },
  "language_info": {
   "codemirror_mode": {
    "name": "ipython",
    "version": 3
   },
   "file_extension": ".py",
   "mimetype": "text/x-python",
   "name": "python",
   "nbconvert_exporter": "python",
   "pygments_lexer": "ipython3",
   "version": "3.9.5"
  }
 },
 "nbformat": 4,
 "nbformat_minor": 4
}
