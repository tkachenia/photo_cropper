{
 "cells": [
  {
   "cell_type": "code",
   "execution_count": null,
   "metadata": {},
   "outputs": [],
   "source": [
    "import os\n",
    "import fitz\n",
    "from tqdm import tqdm"
   ]
  },
  {
   "cell_type": "code",
   "execution_count": null,
   "metadata": {},
   "outputs": [],
   "source": [
    "%load_ext watermark\n",
    "%watermark -v -m -p fitz"
   ]
  },
  {
   "cell_type": "code",
   "execution_count": null,
   "metadata": {},
   "outputs": [],
   "source": [
    "workdir = \"photo_2_pdf\"\n",
    "\n",
    "oputdir = workdir.replace('pdf', 'png')\n",
    "os.makedirs(oputdir, exist_ok=True)"
   ]
  },
  {
   "cell_type": "code",
   "execution_count": null,
   "metadata": {},
   "outputs": [],
   "source": [
    "for pdf_name in tqdm([pdf for pdf in os.listdir(workdir) if pdf.endswith('.pdf')]):\n",
    "    doc = fitz.Document(os.path.join(workdir, pdf_name))\n",
    "\n",
    "    for i in range(len(doc)):\n",
    "        for img in doc.get_page_images(i):\n",
    "            xref = img[0]\n",
    "            pix = fitz.Pixmap(doc, xref)\n",
    "            pix.save(os.path.join(oputdir, '{}_p{}-{}.png'.format(os.path.splitext(pdf_name)[0], i, xref)))\n",
    "                \n",
    "print(\"Done!\")"
   ]
  },
  {
   "cell_type": "code",
   "execution_count": null,
   "metadata": {},
   "outputs": [],
   "source": []
  }
 ],
 "metadata": {
  "kernelspec": {
   "display_name": "grigorygunko_textextractor_python395",
   "language": "python",
   "name": "grigorygunko_textextractor_python395"
  },
  "language_info": {
   "codemirror_mode": {
    "name": "ipython",
    "version": 3
   },
   "file_extension": ".py",
   "mimetype": "text/x-python",
   "name": "python",
   "nbconvert_exporter": "python",
   "pygments_lexer": "ipython3",
   "version": "3.9.5"
  }
 },
 "nbformat": 4,
 "nbformat_minor": 4
}
