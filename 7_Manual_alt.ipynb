{
 "cells": [
  {
   "cell_type": "code",
   "execution_count": 1,
   "metadata": {},
   "outputs": [
    {
     "name": "stdout",
     "output_type": "stream",
     "text": [
      "global 1\n",
      "local 2\n",
      "glob 1\n",
      "loc 2\n",
      "local 22\n",
      "global 11\n"
     ]
    }
   ],
   "source": [
    "val = 1\n",
    "print('global', val)\n",
    "\n",
    "def foo():\n",
    "    val = 2\n",
    "    print('local', val)\n",
    "    \n",
    "    def glob():\n",
    "        global val\n",
    "        print('glob', val)\n",
    "        val += 10\n",
    "        \n",
    "    def loc():\n",
    "        nonlocal val\n",
    "        print('loc', val)\n",
    "        val += 20\n",
    "        \n",
    "    glob()\n",
    "    loc()\n",
    "        \n",
    "    print('local', val)\n",
    "    \n",
    "foo()\n",
    "    \n",
    "print('global', val)"
   ]
  },
  {
   "cell_type": "markdown",
   "metadata": {},
   "source": [
    "---"
   ]
  },
  {
   "cell_type": "code",
   "execution_count": 2,
   "metadata": {},
   "outputs": [],
   "source": [
    "def callback(fn, a, b):\n",
    "    fn(a, b)"
   ]
  },
  {
   "cell_type": "markdown",
   "metadata": {},
   "source": [
    "## Global"
   ]
  },
  {
   "cell_type": "code",
   "execution_count": 3,
   "metadata": {},
   "outputs": [],
   "source": [
    "glob_immutable_idx = None\n",
    "glob_mutable_results = None\n",
    "\n",
    "def hook(a, b):\n",
    "    global glob_immutable_idx, glob_mutable_results\n",
    "    print(glob_immutable_idx, f'{a}+{b}={a+b}', glob_mutable_results)\n",
    "    glob_immutable_idx += 1\n",
    "    glob_mutable_results.append(a+b)"
   ]
  },
  {
   "cell_type": "code",
   "execution_count": 4,
   "metadata": {},
   "outputs": [
    {
     "name": "stdout",
     "output_type": "stream",
     "text": [
      "0 1+1=2 []\n",
      "1 1+2=3 [2]\n",
      "2 1+3=4 [2, 3]\n",
      "3 1+4=5 [2, 3, 4]\n",
      "4 2+1=3 [2, 3, 4, 5]\n",
      "5 2+2=4 [2, 3, 4, 5, 3]\n",
      "6 2+3=5 [2, 3, 4, 5, 3, 4]\n",
      "7 2+4=6 [2, 3, 4, 5, 3, 4, 5]\n",
      "8 3+1=4 [2, 3, 4, 5, 3, 4, 5, 6]\n",
      "9 3+2=5 [2, 3, 4, 5, 3, 4, 5, 6, 4]\n",
      "0 3+3=6 [2, 3, 4, 5, 3, 4, 5, 6, 4, 5]\n",
      "1 3+4=7 [2, 3, 4, 5, 3, 4, 5, 6, 4, 5, 6]\n"
     ]
    }
   ],
   "source": [
    "global glob_immutable_idx, glob_mutable_results\n",
    "glob_immutable_idx = 0\n",
    "glob_mutable_results = []\n",
    "\n",
    "for a in range(1, 4):\n",
    "    for b in range(1, 5):\n",
    "        callback(hook, a, b)\n",
    "        if glob_immutable_idx > 9:\n",
    "            glob_immutable_idx = 0"
   ]
  },
  {
   "cell_type": "markdown",
   "metadata": {},
   "source": [
    "## Extended Hook function"
   ]
  },
  {
   "cell_type": "code",
   "execution_count": 5,
   "metadata": {},
   "outputs": [],
   "source": [
    "def hook(a, b, c=0):\n",
    "    print(f'{a=}, {b=}, {c=}')"
   ]
  },
  {
   "cell_type": "code",
   "execution_count": 6,
   "metadata": {},
   "outputs": [],
   "source": [
    "def hook_extend(a, b, d, c=0, e=1): # add args 'd' and kwargs 'e'\n",
    "    print(f'{a=}, {b=}, {d=}, {c=}, {e=}')"
   ]
  },
  {
   "cell_type": "code",
   "execution_count": 7,
   "metadata": {},
   "outputs": [
    {
     "name": "stdout",
     "output_type": "stream",
     "text": [
      "a=1, b=2, c=0\n"
     ]
    }
   ],
   "source": [
    "hook(1,2)"
   ]
  },
  {
   "cell_type": "code",
   "execution_count": 8,
   "metadata": {},
   "outputs": [
    {
     "name": "stdout",
     "output_type": "stream",
     "text": [
      "a=1, b=2, c=3\n"
     ]
    }
   ],
   "source": [
    "hook(1,2,3)"
   ]
  },
  {
   "cell_type": "code",
   "execution_count": 9,
   "metadata": {},
   "outputs": [
    {
     "name": "stdout",
     "output_type": "stream",
     "text": [
      "a=1, b=2, d=3, c=0, e=1\n"
     ]
    }
   ],
   "source": [
    "hook_extend(1,2,3)"
   ]
  },
  {
   "cell_type": "code",
   "execution_count": 10,
   "metadata": {},
   "outputs": [],
   "source": [
    "def hook(a, b, *, c=0):\n",
    "    print(f'{a=}, {b=}, {c=}')"
   ]
  },
  {
   "cell_type": "code",
   "execution_count": 11,
   "metadata": {},
   "outputs": [],
   "source": [
    "def hook_extend(a, b, d, *, c=0, e=1): # add args 'd' and kwargs 'e'\n",
    "    print(f'{a=}, {b=}, {d=}, {c=}, {e=}')"
   ]
  },
  {
   "cell_type": "code",
   "execution_count": 12,
   "metadata": {},
   "outputs": [
    {
     "name": "stdout",
     "output_type": "stream",
     "text": [
      "a=1, b=2, c=0\n"
     ]
    }
   ],
   "source": [
    "hook(1,2)"
   ]
  },
  {
   "cell_type": "code",
   "execution_count": 13,
   "metadata": {
    "scrolled": true
   },
   "outputs": [
    {
     "ename": "TypeError",
     "evalue": "hook() takes 2 positional arguments but 3 were given",
     "output_type": "error",
     "traceback": [
      "\u001b[1;31m---------------------------------------------------------------------------\u001b[0m",
      "\u001b[1;31mTypeError\u001b[0m                                 Traceback (most recent call last)",
      "Cell \u001b[1;32mIn[13], line 1\u001b[0m\n\u001b[1;32m----> 1\u001b[0m \u001b[43mhook\u001b[49m\u001b[43m(\u001b[49m\u001b[38;5;241;43m1\u001b[39;49m\u001b[43m,\u001b[49m\u001b[38;5;241;43m2\u001b[39;49m\u001b[43m,\u001b[49m\u001b[38;5;241;43m3\u001b[39;49m\u001b[43m)\u001b[49m\n",
      "\u001b[1;31mTypeError\u001b[0m: hook() takes 2 positional arguments but 3 were given"
     ]
    }
   ],
   "source": [
    "hook(1,2,3)"
   ]
  },
  {
   "cell_type": "code",
   "execution_count": 14,
   "metadata": {},
   "outputs": [
    {
     "name": "stdout",
     "output_type": "stream",
     "text": [
      "a=1, b=2, d=3, c=0, e=1\n"
     ]
    }
   ],
   "source": [
    "hook_extend(1,2,3)"
   ]
  },
  {
   "cell_type": "markdown",
   "metadata": {},
   "source": [
    "## Decorator"
   ]
  },
  {
   "cell_type": "code",
   "execution_count": 15,
   "metadata": {},
   "outputs": [],
   "source": [
    "def hook_extend(a, b, immutable_idx=None, mutable_results=None): # mutable_results=[]): # \n",
    "    print(immutable_idx, f'{a}+{b}={a+b}', mutable_results)\n",
    "    immutable_idx += 1\n",
    "    mutable_results.append(a+b)"
   ]
  },
  {
   "cell_type": "code",
   "execution_count": 16,
   "metadata": {},
   "outputs": [],
   "source": [
    "def add_extra_kwargs(**extra_kwargs):\n",
    "    def decorator(fn):\n",
    "        def inner(*args, **kwargs):\n",
    "            return fn(*args, **kwargs, **extra_kwargs)\n",
    "        return inner\n",
    "    return decorator"
   ]
  },
  {
   "cell_type": "code",
   "execution_count": 17,
   "metadata": {},
   "outputs": [
    {
     "name": "stdout",
     "output_type": "stream",
     "text": [
      "0 1+1=2 []\n",
      "0 1+2=3 [2]\n",
      "0 1+3=4 [2, 3]\n",
      "0 1+4=5 [2, 3, 4]\n",
      "0 2+1=3 [2, 3, 4, 5]\n",
      "0 2+2=4 [2, 3, 4, 5, 3]\n",
      "0 2+3=5 [2, 3, 4, 5, 3, 4]\n",
      "0 2+4=6 [2, 3, 4, 5, 3, 4, 5]\n",
      "0 3+1=4 [2, 3, 4, 5, 3, 4, 5, 6]\n",
      "0 3+2=5 [2, 3, 4, 5, 3, 4, 5, 6, 4]\n",
      "0 3+3=6 [2, 3, 4, 5, 3, 4, 5, 6, 4, 5]\n",
      "0 3+4=7 [2, 3, 4, 5, 3, 4, 5, 6, 4, 5, 6]\n"
     ]
    }
   ],
   "source": [
    "idx = 0\n",
    "results = []\n",
    "for a in range(1, 4):\n",
    "    for b in range(1, 5):\n",
    "        hook = add_extra_kwargs(immutable_idx=idx, mutable_results=results)(hook_extend)\n",
    "        callback(hook, a, b)\n",
    "        if idx > 9:\n",
    "            idx = 0"
   ]
  },
  {
   "cell_type": "code",
   "execution_count": 42,
   "metadata": {},
   "outputs": [],
   "source": [
    "class Integer:\n",
    "    def __init__(self, idx):\n",
    "        self.__idx = idx\n",
    "        \n",
    "    def __iadd__(self, value):\n",
    "        self.__idx += value\n",
    "        return self\n",
    "    \n",
    "    def __gt__(self, value):\n",
    "        return self.__idx > value\n",
    "        \n",
    "    def __repr__(self):\n",
    "        return str(self.__idx)"
   ]
  },
  {
   "cell_type": "code",
   "execution_count": 43,
   "metadata": {},
   "outputs": [
    {
     "name": "stdout",
     "output_type": "stream",
     "text": [
      "0 1+1=2 []\n",
      "1 1+2=3 [2]\n",
      "2 1+3=4 [2, 3]\n",
      "3 1+4=5 [2, 3, 4]\n",
      "4 2+1=3 [2, 3, 4, 5]\n",
      "5 2+2=4 [2, 3, 4, 5, 3]\n",
      "6 2+3=5 [2, 3, 4, 5, 3, 4]\n",
      "7 2+4=6 [2, 3, 4, 5, 3, 4, 5]\n",
      "8 3+1=4 [2, 3, 4, 5, 3, 4, 5, 6]\n",
      "9 3+2=5 [2, 3, 4, 5, 3, 4, 5, 6, 4]\n",
      "0 3+3=6 [2, 3, 4, 5, 3, 4, 5, 6, 4, 5]\n",
      "1 3+4=7 [2, 3, 4, 5, 3, 4, 5, 6, 4, 5, 6]\n"
     ]
    }
   ],
   "source": [
    "idx = Integer(0)\n",
    "results = []\n",
    "for a in range(1, 4):\n",
    "    for b in range(1, 5):\n",
    "        hook = add_extra_kwargs(immutable_idx=idx, mutable_results=results)(hook_extend)\n",
    "        callback(hook, a, b)\n",
    "        if idx > 9:\n",
    "            idx = Integer(0)"
   ]
  },
  {
   "cell_type": "markdown",
   "metadata": {},
   "source": [
    "## Callable Object"
   ]
  },
  {
   "cell_type": "code",
   "execution_count": 21,
   "metadata": {},
   "outputs": [],
   "source": [
    "class HookExtend:\n",
    "    def __init__(self, fn):\n",
    "        self.__fn = fn\n",
    "        self.__kwargs = dict()\n",
    "        \n",
    "    def update_kwargs(self, **kwargs):\n",
    "        self.__kwargs.update(kwargs)\n",
    "        \n",
    "    def __call__(self, *args, **kwargs):\n",
    "        return self.__fn(*args, **kwargs, **self.__kwargs)"
   ]
  },
  {
   "cell_type": "code",
   "execution_count": 22,
   "metadata": {},
   "outputs": [
    {
     "name": "stdout",
     "output_type": "stream",
     "text": [
      "0 1+1=2 []\n",
      "1 1+2=3 [2]\n",
      "2 1+3=4 [2, 3]\n",
      "3 1+4=5 [2, 3, 4]\n",
      "4 2+1=3 [2, 3, 4, 5]\n",
      "5 2+2=4 [2, 3, 4, 5, 3]\n",
      "6 2+3=5 [2, 3, 4, 5, 3, 4]\n",
      "7 2+4=6 [2, 3, 4, 5, 3, 4, 5]\n",
      "8 3+1=4 [2, 3, 4, 5, 3, 4, 5, 6]\n",
      "9 3+2=5 [2, 3, 4, 5, 3, 4, 5, 6, 4]\n",
      "0 3+3=6 [2, 3, 4, 5, 3, 4, 5, 6, 4, 5]\n",
      "1 3+4=7 [2, 3, 4, 5, 3, 4, 5, 6, 4, 5, 6]\n"
     ]
    }
   ],
   "source": [
    "idx = Integer(0)\n",
    "results = []\n",
    "hook = HookExtend(hook_extend)\n",
    "for a in range(1, 4):\n",
    "    for b in range(1, 5):\n",
    "        hook.update_kwargs(immutable_idx=idx, mutable_results=results)\n",
    "        callback(hook, a, b)\n",
    "        if idx > 9:\n",
    "            idx = Integer(0)"
   ]
  },
  {
   "cell_type": "markdown",
   "metadata": {},
   "source": [
    "---"
   ]
  },
  {
   "cell_type": "code",
   "execution_count": 23,
   "metadata": {},
   "outputs": [],
   "source": [
    "import os\n",
    "\n",
    "import cv2\n",
    "import imutils\n",
    "\n",
    "import numpy as np"
   ]
  },
  {
   "cell_type": "code",
   "execution_count": 24,
   "metadata": {},
   "outputs": [
    {
     "name": "stdout",
     "output_type": "stream",
     "text": [
      "Python implementation: CPython\n",
      "Python version       : 3.9.5\n",
      "IPython version      : 8.7.0\n",
      "\n",
      "cv2    : 4.6.0\n",
      "imutils: 0.5.4\n",
      "numpy  : 1.23.5\n",
      "\n",
      "Compiler    : MSC v.1916 64 bit (AMD64)\n",
      "OS          : Windows\n",
      "Release     : 10\n",
      "Machine     : AMD64\n",
      "Processor   : Intel64 Family 6 Model 69 Stepping 1, GenuineIntel\n",
      "CPU cores   : 4\n",
      "Architecture: 64bit\n",
      "\n"
     ]
    }
   ],
   "source": [
    "%load_ext watermark\n",
    "%watermark -v -m -p cv2,imutils,numpy"
   ]
  },
  {
   "cell_type": "code",
   "execution_count": 25,
   "metadata": {},
   "outputs": [],
   "source": [
    "def read_image(file_name, margin = 1000):\n",
    "    # Open image\n",
    "    img = cv2.imread(file_name)\n",
    "    if margin:\n",
    "        img = cv2.copyMakeBorder(img, margin, margin, margin, margin, borderType=cv2.BORDER_CONSTANT, value=(255, 255, 255))\n",
    "\n",
    "    return img\n",
    "\n",
    "def resize_image(img, height=1000):\n",
    "    # Resize the image\n",
    "    rsz = imutils.resize(img, height=height)\n",
    "\n",
    "    # Calculate the ratio\n",
    "    ratio = img.shape[0] / rsz.shape[0]\n",
    "    \n",
    "    return rsz, ratio\n",
    "\n",
    "def rotate(img, angle, center = None, scale = 1.0):\n",
    "    (h, w) = img.shape[:2]\n",
    "\n",
    "    if center is None:\n",
    "        center = (w / 2, h / 2)\n",
    "\n",
    "    # Perform the rotation\n",
    "    M = cv2.getRotationMatrix2D(center, angle, scale)\n",
    "    rtt = cv2.warpAffine(img, M, (w, h), flags=cv2.INTER_LINEAR, borderValue=(255, 255, 255))\n",
    "\n",
    "    return rtt"
   ]
  },
  {
   "cell_type": "code",
   "execution_count": 26,
   "metadata": {},
   "outputs": [],
   "source": [
    "def onMouseExtend(event, x, y, flags, param, img=None, pos_list=None):\n",
    "    if event == cv2.EVENT_LBUTTONDOWN:\n",
    "        pos_list.append((x, y))\n",
    "        cv2.circle(img, pos_list[-1], 5, (0,0,255), -1)\n",
    "        \n",
    "class HookExtend:\n",
    "    def __init__(self, fn):\n",
    "        self.__fn = fn\n",
    "        self.__kwargs = dict()\n",
    "        \n",
    "    def update_kwargs(self, **kwargs):\n",
    "        self.__kwargs.update(kwargs)\n",
    "        \n",
    "    def __call__(self, *args, **kwargs):\n",
    "        return self.__fn(*args, **kwargs, **self.__kwargs)"
   ]
  },
  {
   "cell_type": "code",
   "execution_count": 37,
   "metadata": {},
   "outputs": [],
   "source": [
    "def cv_crop_image(img, label, height=900, threshold=False, verbose=False):\n",
    "    rsz, ratio = resize_image(img, height=height)\n",
    "    if threshold:\n",
    "        rsz = cv2.cvtColor(rsz, cv2.COLOR_BGR2GRAY)\n",
    "        rsz = cv2.adaptiveThreshold(rsz, 255, cv2.ADAPTIVE_THRESH_MEAN_C, cv2.THRESH_BINARY, 5, 0)\n",
    "        rsz = cv2.cvtColor(rsz, cv2.COLOR_GRAY2BGR)\n",
    "\n",
    "    image = rsz.copy()\n",
    "    pos_list = []\n",
    "\n",
    "    onMouse = HookExtend(onMouseExtend)\n",
    "    onMouse.update_kwargs(img=image, pos_list=pos_list)\n",
    "\n",
    "    rect_rsz = None\n",
    "    label = label+' ~ Cropping'\n",
    "    cv2.namedWindow(label)\n",
    "    cv2.setMouseCallback(label, onMouse)\n",
    "    while True:\n",
    "        cv2.imshow(label, image)\n",
    "        \n",
    "        key = cv2.waitKey(20) & 0xFF\n",
    "        if key == 27: # Escape\n",
    "            pos_list = []\n",
    "            image = rsz.copy()\n",
    "            onMouse.update_kwargs(img=image, pos_list=pos_list)\n",
    "        elif key in (13, 32): # Enter or Space\n",
    "            if verbose: print(pos_list)\n",
    "            rect_rsz = np.asarray(pos_list).reshape([-1, 1, 2])\n",
    "            break\n",
    "    cv2.destroyAllWindows()\n",
    "    \n",
    "    rect_img = ((rect_rsz.astype('float'))*ratio).astype('int')\n",
    "    x, y, w, h = cv2.boundingRect(rect_img)\n",
    "    img = img[y:y+h, x:x+w, :]\n",
    "    \n",
    "    return img\n",
    "\n",
    "def cv_rotate_image(img, label, height=900, threshold=False, verbose=False):\n",
    "    rsz, ratio = resize_image(img, height=height)\n",
    "    if threshold:\n",
    "        rsz = cv2.cvtColor(rsz, cv2.COLOR_BGR2GRAY)\n",
    "        rsz = cv2.adaptiveThreshold(rsz, 255, cv2.ADAPTIVE_THRESH_MEAN_C, cv2.THRESH_BINARY, 21 , 2)\n",
    "        rsz = cv2.cvtColor(rsz, cv2.COLOR_GRAY2BGR)\n",
    "\n",
    "    image = rsz.copy()\n",
    "    pos_list = []\n",
    "\n",
    "    onMouse = HookExtend(onMouseExtend)\n",
    "    onMouse.update_kwargs(img=image, pos_list=pos_list)\n",
    "\n",
    "    left, right = None, None\n",
    "    label = label+' ~ Angle'\n",
    "    cv2.namedWindow(label)\n",
    "    cv2.setMouseCallback(label, onMouse)\n",
    "    while True:\n",
    "        cv2.imshow(label, image)\n",
    "        \n",
    "        key = cv2.waitKey(20) & 0xFF\n",
    "        if key == 27: # Escape\n",
    "            pos_list = []\n",
    "            image=rsz.copy()\n",
    "            onMouse.update_kwargs(img=image, pos_list=pos_list)\n",
    "        elif key in (13, 32): # Enter or Space\n",
    "            if len(pos_list) < 2:\n",
    "                continue\n",
    "            if verbose: print(pos_list)\n",
    "            left, right = pos_list[:2]\n",
    "            break\n",
    "    cv2.destroyAllWindows()\n",
    "    \n",
    "    angle = np.arctan( (right[1]-left[1])/(right[0]-left[0]) ) * 180 / np.pi\n",
    "    if verbose: print(angle)\n",
    "        \n",
    "    img = rotate(img, angle)\n",
    "    \n",
    "    return img\n",
    "\n",
    "def cv_save_image(img, file_name, label, verbose=False):\n",
    "    rsz, ratio = resize_image(img, height=800)\n",
    "    done = False\n",
    "    \n",
    "    label = label+' ~ Result'\n",
    "    cv2.namedWindow(label)\n",
    "\n",
    "    cv2.imshow(label, rsz)\n",
    "\n",
    "    key = cv2.waitKey() & 0xFF\n",
    "    if key == 27: # Escape\n",
    "        done = False\n",
    "    elif key in (13, 32): # Enter or Space\n",
    "        cv2.imwrite(file_name, img)\n",
    "        done = True\n",
    "        \n",
    "    cv2.destroyAllWindows()\n",
    "    \n",
    "    return done"
   ]
  },
  {
   "cell_type": "code",
   "execution_count": 38,
   "metadata": {},
   "outputs": [],
   "source": [
    "def cv2_manual_photo(file_name, iputdir='', oputdir='', label=None):\n",
    "    oputdir = oputdir or iputdir\n",
    "    img = read_image(os.path.join(iputdir, file_name), margin=0)\n",
    "\n",
    "    while True:\n",
    "        img_proc = cv_crop_image(img, label=label, threshold=True)\n",
    "\n",
    "        img_proc = cv_rotate_image(img_proc, label=label, threshold=True)\n",
    "\n",
    "        img_proc = cv_crop_image(img_proc, label=label, threshold=True)\n",
    "        \n",
    "        if cv_save_image(img_proc, os.path.join(oputdir, file_name.replace('_orig.png', '.png')), label=label):\n",
    "            break"
   ]
  },
  {
   "cell_type": "code",
   "execution_count": 39,
   "metadata": {
    "scrolled": false
   },
   "outputs": [
    {
     "name": "stdout",
     "output_type": "stream",
     "text": [
      "Done!\n"
     ]
    }
   ],
   "source": [
    "iputdir = 'photo_2_crop'\n",
    "\n",
    "png_name_list = [png for png in os.listdir(iputdir) if png.endswith('_orig.png')]\n",
    "for i, png_name in enumerate(png_name_list, start=1):\n",
    "    cv2_manual_photo(png_name, iputdir, label='[{} of {}] {}'.format(i, len(png_name_list), png_name))\n",
    "        \n",
    "print(\"Done!\")"
   ]
  }
 ],
 "metadata": {
  "kernelspec": {
   "display_name": "grigorygunko_textextractor_python395",
   "language": "python",
   "name": "grigorygunko_textextractor_python395"
  },
  "language_info": {
   "codemirror_mode": {
    "name": "ipython",
    "version": 3
   },
   "file_extension": ".py",
   "mimetype": "text/x-python",
   "name": "python",
   "nbconvert_exporter": "python",
   "pygments_lexer": "ipython3",
   "version": "3.9.5"
  }
 },
 "nbformat": 4,
 "nbformat_minor": 4
}
