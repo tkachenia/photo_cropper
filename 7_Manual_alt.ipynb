{
 "cells": [
  {
   "cell_type": "code",
   "execution_count": 1,
   "metadata": {},
   "outputs": [],
   "source": [
    "import random"
   ]
  },
  {
   "cell_type": "markdown",
   "metadata": {},
   "source": [
    "### Задача:  \n",
    "- Эмулируем стрельбу из лука (функция `hook`).  \n",
    "- Чтобы варьировать правила стрельбы передаем callback функцию `fn`\n",
    "- В функции `callback` выводим на экран координаты выстрела и количество попаданий:  \n",
    "-- Дополнительно подсчитываем расстояние до центра и запоминаем коорднаты выстрела.  \n",
    "- Во внешней функции, если расстояние до центра меньше `25` считаем это за попадание:  \n",
    "-- Удаляем координаты успешного выстрела (храним координаты только промахов);  \n",
    "-- Увеличиваем на 1 счетчик попаданий\n",
    "- В конце выводим координаты всех промахов и количество попаданий\n",
    "\n",
    "### Цель:  \n",
    "- Посмотреть как узменение params внитри функции `callback` и снаружи синхронизировать между собой."
   ]
  },
  {
   "cell_type": "markdown",
   "metadata": {},
   "source": [
    "## Global"
   ]
  },
  {
   "cell_type": "code",
   "execution_count": 160,
   "metadata": {},
   "outputs": [],
   "source": [
    "def hook(fn):\n",
    "    while True:\n",
    "        x = random.randint(0, 100)\n",
    "        y = random.randint(0, 100)\n",
    "        fn(x, y)\n",
    "        yield"
   ]
  },
  {
   "cell_type": "code",
   "execution_count": 161,
   "metadata": {},
   "outputs": [],
   "source": [
    "def callback(x, y):\n",
    "    global glob_residual, glob_points, glob_hits\n",
    "    \n",
    "    print(f'({x=}, {y=}), #Hits: {glob_hits}')\n",
    "    glob_residual = ( (50-x)**2 + (50-y)**2 )**0.5\n",
    "    glob_points.append((x, y))"
   ]
  },
  {
   "cell_type": "code",
   "execution_count": 163,
   "metadata": {},
   "outputs": [
    {
     "name": "stdout",
     "output_type": "stream",
     "text": [
      "(x=70, y=78), #Hits: 0\n",
      "(x=53, y=97), #Hits: 0\n",
      "(x=39, y=31), #Hits: 0\n",
      "Hit 21.95\n",
      "(x=44, y=58), #Hits: 1\n",
      "Hit 10.00\n",
      "(x=15, y=95), #Hits: 2\n",
      "(x=40, y=16), #Hits: 2\n",
      "(x=44, y=20), #Hits: 2\n",
      "(x=39, y=64), #Hits: 2\n",
      "Hit 17.80\n",
      "(x=74, y=5), #Hits: 3\n",
      "(x=41, y=58), #Hits: 3\n",
      "Hit 12.04\n",
      "[(70, 78), (53, 97), (15, 95), (40, 16), (44, 20), (74, 5)]\n",
      "#Hits: 4\n"
     ]
    }
   ],
   "source": [
    "global glob_position, glob_points, glob_hits\n",
    "glob_residual = 100\n",
    "glob_points   = []\n",
    "glob_hits     = 0\n",
    "\n",
    "pipeline = hook(callback)\n",
    "for _ in range(10):\n",
    "    next(pipeline)\n",
    "    if glob_residual < 25:\n",
    "        print('Hit', f'{glob_residual:.2f}')\n",
    "        del glob_points[-1]\n",
    "        glob_hits += 1\n",
    "        \n",
    "print(glob_points)\n",
    "print(f'#Hits: {glob_hits}')"
   ]
  },
  {
   "cell_type": "code",
   "execution_count": 135,
   "metadata": {},
   "outputs": [
    {
     "name": "stdout",
     "output_type": "stream",
     "text": [
      "global 1\n",
      "local 2\n",
      "glob 1\n",
      "loc 2\n",
      "local 22\n",
      "global 11\n"
     ]
    }
   ],
   "source": [
    "val = 1\n",
    "print('global', val)\n",
    "\n",
    "def foo():\n",
    "    val = 2\n",
    "    print('local', val)\n",
    "    \n",
    "    def glob():\n",
    "        global val\n",
    "        print('glob', val)\n",
    "        val += 10\n",
    "        \n",
    "    def loc():\n",
    "        nonlocal val\n",
    "        print('loc', val)\n",
    "        val += 20\n",
    "        \n",
    "    glob()\n",
    "    loc()\n",
    "        \n",
    "    print('local', val)\n",
    "    \n",
    "foo()\n",
    "    \n",
    "print('global', val)"
   ]
  },
  {
   "cell_type": "markdown",
   "metadata": {},
   "source": [
    "## Param"
   ]
  },
  {
   "cell_type": "code",
   "execution_count": 173,
   "metadata": {},
   "outputs": [],
   "source": [
    "def hook(fn, param=None):\n",
    "    while True:\n",
    "        x = random.randint(0, 100)\n",
    "        y = random.randint(0, 100)\n",
    "        fn(x, y, param)\n",
    "        yield"
   ]
  },
  {
   "cell_type": "code",
   "execution_count": 174,
   "metadata": {},
   "outputs": [],
   "source": [
    "def callback(x, y, param):\n",
    "    residual, points, hits = param\n",
    "    \n",
    "    print(f'({x=}, {y=}), #Hits: {hits}')\n",
    "    residual = ( (50-x)**2 + (50-y)**2 )**0.5\n",
    "    points.append((x, y))"
   ]
  },
  {
   "cell_type": "code",
   "execution_count": 175,
   "metadata": {},
   "outputs": [
    {
     "name": "stdout",
     "output_type": "stream",
     "text": [
      "(x=90, y=10), #Hits: 0\n",
      "(x=43, y=20), #Hits: 0\n",
      "(x=44, y=6), #Hits: 0\n",
      "(x=72, y=52), #Hits: 0\n",
      "(x=96, y=71), #Hits: 0\n",
      "(x=43, y=29), #Hits: 0\n",
      "(x=7, y=93), #Hits: 0\n",
      "(x=65, y=59), #Hits: 0\n",
      "(x=37, y=17), #Hits: 0\n",
      "(x=2, y=56), #Hits: 0\n",
      "[(90, 10), (43, 20), (44, 6), (72, 52), (96, 71), (43, 29), (7, 93), (65, 59), (37, 17), (2, 56)]\n",
      "#Hits: 0\n"
     ]
    }
   ],
   "source": [
    "residual = 100\n",
    "points   = []\n",
    "hits     = 0\n",
    "\n",
    "pipeline = hook(callback, param=(residual, points, hits))\n",
    "for _ in range(10):\n",
    "    next(pipeline)\n",
    "    if residual < 25:\n",
    "        print('Hit', f'{residual:.2f}')\n",
    "        del points[-1]\n",
    "        hits = hits + 1\n",
    "        \n",
    "print(points)\n",
    "print(f'#Hits: {hits}')"
   ]
  },
  {
   "cell_type": "code",
   "execution_count": 183,
   "metadata": {},
   "outputs": [],
   "source": [
    "class Number:\n",
    "    def __init__(self, value):\n",
    "        self.__value = value\n",
    "        \n",
    "    def assign(self, value):\n",
    "        self.__value = value\n",
    "        return self\n",
    "    \n",
    "    def __add__(self, value):\n",
    "        return Float(self.__value + value)\n",
    "    \n",
    "    def __iadd__(self, value):\n",
    "        self.__value = self.__value + value\n",
    "        return self\n",
    "    \n",
    "    def __lt__(self, value):\n",
    "        return self.__value < value\n",
    "        \n",
    "    def __repr__(self):\n",
    "        return str(self.__value) if isinstance(self.__value, int) else f'{self.__value:.2f}'"
   ]
  },
  {
   "cell_type": "code",
   "execution_count": 184,
   "metadata": {},
   "outputs": [],
   "source": [
    "def callback(x, y, param):\n",
    "    residual, points, hits = param\n",
    "    \n",
    "    print(f'({x=}, {y=}), #Hits: {hits}')\n",
    "    residual.assign( ( (50-x)**2 + (50-y)**2 )**0.5 )\n",
    "    points.append((x, y))"
   ]
  },
  {
   "cell_type": "code",
   "execution_count": 198,
   "metadata": {},
   "outputs": [
    {
     "name": "stdout",
     "output_type": "stream",
     "text": [
      "(x=5, y=18), #Hits: 0\n",
      "(x=63, y=85), #Hits: 0\n",
      "(x=88, y=83), #Hits: 0\n",
      "(x=81, y=35), #Hits: 0\n",
      "(x=82, y=51), #Hits: 0\n",
      "(x=76, y=67), #Hits: 0\n",
      "(x=62, y=13), #Hits: 0\n",
      "(x=81, y=17), #Hits: 0\n",
      "(x=14, y=54), #Hits: 0\n",
      "(x=11, y=91), #Hits: 0\n",
      "[(5, 18), (63, 85), (88, 83), (81, 35), (82, 51), (76, 67), (62, 13), (81, 17), (14, 54), (11, 91)]\n",
      "#Hits: 0\n"
     ]
    }
   ],
   "source": [
    "residual = Number(100)\n",
    "points   = []\n",
    "hits     = Number(0)\n",
    "\n",
    "pipeline = hook(callback, param=(residual, points, hits))\n",
    "for _ in range(10):\n",
    "    next(pipeline)\n",
    "    if residual < 25:\n",
    "        print('Hit', residual)\n",
    "        del points[-1]\n",
    "        # option 1\n",
    "        hits = hits + 1\n",
    "#         pipeline = hook(callback, param=(residual, points, hits))\n",
    "        # option 2 (preferable)\n",
    "#         hits += 1\n",
    "        #\n",
    "        \n",
    "print(points)\n",
    "print(f'#Hits: {hits}')"
   ]
  },
  {
   "cell_type": "markdown",
   "metadata": {},
   "source": [
    "## Extended callback function"
   ]
  },
  {
   "cell_type": "code",
   "execution_count": null,
   "metadata": {},
   "outputs": [],
   "source": [
    "def hook(fn):\n",
    "    while True:\n",
    "        x = random.randint(0, 100)\n",
    "        y = random.randint(0, 100)\n",
    "        fn(x, y)\n",
    "        yield"
   ]
  },
  {
   "cell_type": "code",
   "execution_count": 99,
   "metadata": {},
   "outputs": [],
   "source": [
    "def callback(x, y, param=0):\n",
    "    print(f'{x=}, {y=}, {param=}')"
   ]
  },
  {
   "cell_type": "code",
   "execution_count": 104,
   "metadata": {},
   "outputs": [],
   "source": [
    "def callback_extend(x, y, arg_param, param=0, kwarg_param=1):\n",
    "    print(f'{x=}, {y=}, {arg_param=}, {param=}, {kwarg_param=}')"
   ]
  },
  {
   "cell_type": "code",
   "execution_count": 105,
   "metadata": {},
   "outputs": [
    {
     "name": "stdout",
     "output_type": "stream",
     "text": [
      "x=1, y=2, param=0\n"
     ]
    }
   ],
   "source": [
    "callback(1,2)"
   ]
  },
  {
   "cell_type": "code",
   "execution_count": 106,
   "metadata": {},
   "outputs": [
    {
     "name": "stdout",
     "output_type": "stream",
     "text": [
      "x=1, y=2, param=3\n"
     ]
    }
   ],
   "source": [
    "callback(1,2,3)"
   ]
  },
  {
   "cell_type": "code",
   "execution_count": 107,
   "metadata": {},
   "outputs": [
    {
     "name": "stdout",
     "output_type": "stream",
     "text": [
      "x=1, y=2, arg_param=3, param=0, kwarg_param=1\n"
     ]
    }
   ],
   "source": [
    "callback_extend(1,2,3)"
   ]
  },
  {
   "cell_type": "code",
   "execution_count": 108,
   "metadata": {},
   "outputs": [],
   "source": [
    "def callback(x, y, *, param=0):\n",
    "    print(f'{x=}, {y=}, {param=}')"
   ]
  },
  {
   "cell_type": "code",
   "execution_count": 109,
   "metadata": {},
   "outputs": [],
   "source": [
    "def callback_extend(x, y, arg_param, *, param=0, kwarg_param=1):\n",
    "    print(f'{x=}, {y=}, {arg_param=}, {param=}, {kwarg_param=}')"
   ]
  },
  {
   "cell_type": "code",
   "execution_count": 110,
   "metadata": {},
   "outputs": [
    {
     "name": "stdout",
     "output_type": "stream",
     "text": [
      "x=1, y=2, param=0\n"
     ]
    }
   ],
   "source": [
    "callback(1,2)"
   ]
  },
  {
   "cell_type": "code",
   "execution_count": 111,
   "metadata": {
    "scrolled": true
   },
   "outputs": [
    {
     "ename": "TypeError",
     "evalue": "callback() takes 2 positional arguments but 3 were given",
     "output_type": "error",
     "traceback": [
      "\u001b[1;31m---------------------------------------------------------------------------\u001b[0m",
      "\u001b[1;31mTypeError\u001b[0m                                 Traceback (most recent call last)",
      "Cell \u001b[1;32mIn[111], line 1\u001b[0m\n\u001b[1;32m----> 1\u001b[0m \u001b[43mcallback\u001b[49m\u001b[43m(\u001b[49m\u001b[38;5;241;43m1\u001b[39;49m\u001b[43m,\u001b[49m\u001b[38;5;241;43m2\u001b[39;49m\u001b[43m,\u001b[49m\u001b[38;5;241;43m3\u001b[39;49m\u001b[43m)\u001b[49m\n",
      "\u001b[1;31mTypeError\u001b[0m: callback() takes 2 positional arguments but 3 were given"
     ]
    }
   ],
   "source": [
    "callback(1,2,3)"
   ]
  },
  {
   "cell_type": "code",
   "execution_count": 112,
   "metadata": {},
   "outputs": [
    {
     "name": "stdout",
     "output_type": "stream",
     "text": [
      "x=1, y=2, arg_param=3, param=0, kwarg_param=1\n"
     ]
    }
   ],
   "source": [
    "callback_extend(1,2,3)"
   ]
  },
  {
   "cell_type": "markdown",
   "metadata": {},
   "source": [
    "## Decorator"
   ]
  },
  {
   "cell_type": "code",
   "execution_count": 214,
   "metadata": {},
   "outputs": [],
   "source": [
    "def hook(fn):\n",
    "    while True:\n",
    "        x = random.randint(0, 100)\n",
    "        y = random.randint(0, 100)\n",
    "        fn(x, y)\n",
    "        yield"
   ]
  },
  {
   "cell_type": "code",
   "execution_count": 215,
   "metadata": {},
   "outputs": [],
   "source": [
    "def callback_extend(x, y, residual=100.0, hits=0, points=None): # points=[]): # is it valid?\n",
    "    print(f'({x=}, {y=}), #Hits: {hits}')\n",
    "    residual.assign( ( (50-x)**2 + (50-y)**2 )**0.5 )\n",
    "    points.append((x, y))"
   ]
  },
  {
   "cell_type": "code",
   "execution_count": 216,
   "metadata": {},
   "outputs": [],
   "source": [
    "def add_extra_kwargs(**extra_kwargs):\n",
    "    def decorator(fn):\n",
    "        def inner(*args, **kwargs):\n",
    "            return fn(*args, **kwargs, **extra_kwargs)\n",
    "        return inner\n",
    "    return decorator"
   ]
  },
  {
   "cell_type": "code",
   "execution_count": 217,
   "metadata": {},
   "outputs": [
    {
     "name": "stdout",
     "output_type": "stream",
     "text": [
      "(x=74, y=15), #Hits: 0\n",
      "(x=2, y=88), #Hits: 0\n",
      "(x=74, y=81), #Hits: 0\n",
      "(x=81, y=9), #Hits: 0\n",
      "(x=7, y=93), #Hits: 0\n",
      "(x=13, y=32), #Hits: 0\n",
      "(x=36, y=74), #Hits: 0\n",
      "(x=30, y=72), #Hits: 0\n",
      "(x=30, y=24), #Hits: 0\n",
      "(x=70, y=9), #Hits: 0\n",
      "[(74, 15), (2, 88), (74, 81), (81, 9), (7, 93), (13, 32), (36, 74), (30, 72), (30, 24), (70, 9)]\n",
      "#Hits: 0\n"
     ]
    }
   ],
   "source": [
    "residual = Number(100)\n",
    "points   = []\n",
    "hits     = Number(0)\n",
    "\n",
    "callback = add_extra_kwargs(residual=residual, points=points, hits=hits)(callback_extend)\n",
    "pipeline = hook(callback)\n",
    "for _ in range(10):\n",
    "    next(pipeline)\n",
    "    if residual < 25:\n",
    "        print('Hit', residual)\n",
    "        del points[-1]\n",
    "        # option 1\n",
    "        hits = hits + 1\n",
    "        callback = add_extra_kwargs(residual=residual, points=points, hits=hits)(callback_extend)\n",
    "        pipeline = hook(callback)\n",
    "        \n",
    "print(points)\n",
    "print(f'#Hits: {hits}')"
   ]
  },
  {
   "cell_type": "markdown",
   "metadata": {},
   "source": [
    "## Callable Object"
   ]
  },
  {
   "cell_type": "code",
   "execution_count": 230,
   "metadata": {},
   "outputs": [],
   "source": [
    "class CallbackObject:\n",
    "    def __init__(self, fn):\n",
    "        self.__fn = fn\n",
    "        self.__kwargs = dict()\n",
    "        \n",
    "    def update_kwargs(self, **kwargs):\n",
    "        self.__kwargs.update(kwargs)\n",
    "        \n",
    "    def __call__(self, *args, **kwargs):\n",
    "        return self.__fn(*args, **kwargs, **self.__kwargs)"
   ]
  },
  {
   "cell_type": "code",
   "execution_count": 231,
   "metadata": {},
   "outputs": [
    {
     "name": "stdout",
     "output_type": "stream",
     "text": [
      "(x=63, y=15), #Hits: 0\n",
      "(x=1, y=40), #Hits: 0\n",
      "(x=70, y=8), #Hits: 0\n",
      "(x=59, y=23), #Hits: 0\n",
      "(x=40, y=47), #Hits: 0\n",
      "Hit 10.44\n",
      "(x=90, y=59), #Hits: 1\n",
      "(x=36, y=51), #Hits: 1\n",
      "Hit 14.04\n",
      "(x=91, y=10), #Hits: 2\n",
      "(x=2, y=19), #Hits: 2\n",
      "(x=67, y=26), #Hits: 2\n",
      "[(63, 15), (1, 40), (70, 8), (59, 23), (90, 59), (91, 10), (2, 19), (67, 26)]\n",
      "#Hits: 2\n"
     ]
    }
   ],
   "source": [
    "residual = Number(100)\n",
    "points   = []\n",
    "hits     = Number(0)\n",
    "\n",
    "callback = CallbackObject(callback_extend)\n",
    "callback.update_kwargs(residual=residual, points=points, hits=hits)\n",
    "pipeline = hook(callback)\n",
    "for _ in range(10):\n",
    "    next(pipeline)\n",
    "    if residual < 25:\n",
    "        print('Hit', residual)\n",
    "        del points[-1]\n",
    "        # option 1\n",
    "        hits = hits + 1\n",
    "        callback.update_kwargs(hits=hits)\n",
    "        \n",
    "print(points)\n",
    "print(f'#Hits: {hits}')"
   ]
  },
  {
   "cell_type": "markdown",
   "metadata": {},
   "source": [
    "---"
   ]
  },
  {
   "cell_type": "code",
   "execution_count": 223,
   "metadata": {},
   "outputs": [],
   "source": [
    "import os\n",
    "\n",
    "import cv2\n",
    "import imutils\n",
    "\n",
    "import numpy as np"
   ]
  },
  {
   "cell_type": "code",
   "execution_count": 224,
   "metadata": {},
   "outputs": [
    {
     "name": "stdout",
     "output_type": "stream",
     "text": [
      "Python implementation: CPython\n",
      "Python version       : 3.9.5\n",
      "IPython version      : 8.7.0\n",
      "\n",
      "cv2    : 4.6.0\n",
      "imutils: 0.5.4\n",
      "numpy  : 1.23.5\n",
      "\n",
      "Compiler    : MSC v.1916 64 bit (AMD64)\n",
      "OS          : Windows\n",
      "Release     : 10\n",
      "Machine     : AMD64\n",
      "Processor   : Intel64 Family 6 Model 69 Stepping 1, GenuineIntel\n",
      "CPU cores   : 4\n",
      "Architecture: 64bit\n",
      "\n"
     ]
    }
   ],
   "source": [
    "%load_ext watermark\n",
    "%watermark -v -m -p cv2,imutils,numpy"
   ]
  },
  {
   "cell_type": "code",
   "execution_count": 225,
   "metadata": {},
   "outputs": [],
   "source": [
    "def read_image(file_name, margin = 1000):\n",
    "    # Open image\n",
    "    img = cv2.imread(file_name)\n",
    "    if margin:\n",
    "        img = cv2.copyMakeBorder(img, margin, margin, margin, margin, borderType=cv2.BORDER_CONSTANT, value=(255, 255, 255))\n",
    "\n",
    "    return img\n",
    "\n",
    "def resize_image(img, height=1000):\n",
    "    # Resize the image\n",
    "    rsz = imutils.resize(img, height=height)\n",
    "\n",
    "    # Calculate the ratio\n",
    "    ratio = img.shape[0] / rsz.shape[0]\n",
    "    \n",
    "    return rsz, ratio\n",
    "\n",
    "def rotate(img, angle, center = None, scale = 1.0):\n",
    "    (h, w) = img.shape[:2]\n",
    "\n",
    "    if center is None:\n",
    "        center = (w / 2, h / 2)\n",
    "\n",
    "    # Perform the rotation\n",
    "    M = cv2.getRotationMatrix2D(center, angle, scale)\n",
    "    rtt = cv2.warpAffine(img, M, (w, h), flags=cv2.INTER_LINEAR, borderValue=(255, 255, 255))\n",
    "\n",
    "    return rtt"
   ]
  },
  {
   "cell_type": "code",
   "execution_count": 226,
   "metadata": {},
   "outputs": [],
   "source": [
    "def onMouseExtend(event, x, y, flags, param, img=None, pos_list=None):\n",
    "    if event == cv2.EVENT_LBUTTONDOWN:\n",
    "        pos_list.append((x, y))\n",
    "        cv2.circle(img, pos_list[-1], 5, (0,0,255), -1)\n",
    "        \n",
    "class CallbackObject:\n",
    "    def __init__(self, fn):\n",
    "        self.__fn = fn\n",
    "        self.__kwargs = dict()\n",
    "        \n",
    "    def update_kwargs(self, **kwargs):\n",
    "        self.__kwargs.update(kwargs)\n",
    "        \n",
    "    def __call__(self, *args, **kwargs):\n",
    "        return self.__fn(*args, **kwargs, **self.__kwargs)"
   ]
  },
  {
   "cell_type": "code",
   "execution_count": 235,
   "metadata": {},
   "outputs": [],
   "source": [
    "def cv_crop_image(img, label, height=900, threshold=False, verbose=False):\n",
    "    rsz, ratio = resize_image(img, height=height)\n",
    "    if threshold:\n",
    "        rsz = cv2.cvtColor(rsz, cv2.COLOR_BGR2GRAY)\n",
    "        rsz = cv2.adaptiveThreshold(rsz, 255, cv2.ADAPTIVE_THRESH_MEAN_C, cv2.THRESH_BINARY, 5, 0)\n",
    "        rsz = cv2.cvtColor(rsz, cv2.COLOR_GRAY2BGR)\n",
    "\n",
    "    image = rsz.copy()\n",
    "    pos_list = []\n",
    "\n",
    "    onMouse = CallbackObject(onMouseExtend)\n",
    "    onMouse.update_kwargs(img=image, pos_list=pos_list)\n",
    "\n",
    "    rect_rsz = None\n",
    "    label = label+' ~ Cropping'\n",
    "    cv2.namedWindow(label)\n",
    "    cv2.setMouseCallback(label, onMouse)\n",
    "    while True:\n",
    "        cv2.imshow(label, image)\n",
    "        \n",
    "        key = cv2.waitKey(20) & 0xFF\n",
    "        if key == 27: # Escape\n",
    "            # option 1\n",
    "            pos_list = []\n",
    "            image = rsz.copy()\n",
    "            onMouse.update_kwargs(img=image, pos_list=pos_list)\n",
    "        elif key in (13, 32): # Enter or Space\n",
    "            if verbose: print(pos_list)\n",
    "            rect_rsz = np.asarray(pos_list).reshape([-1, 1, 2])\n",
    "            break\n",
    "    cv2.destroyAllWindows()\n",
    "    \n",
    "    rect_img = ((rect_rsz.astype('float'))*ratio).astype('int')\n",
    "    x, y, w, h = cv2.boundingRect(rect_img)\n",
    "    img = img[y:y+h, x:x+w, :]\n",
    "    \n",
    "    return img\n",
    "\n",
    "def cv_rotate_image(img, label, height=900, threshold=False, verbose=False):\n",
    "    rsz, ratio = resize_image(img, height=height)\n",
    "    if threshold:\n",
    "        rsz = cv2.cvtColor(rsz, cv2.COLOR_BGR2GRAY)\n",
    "        rsz = cv2.adaptiveThreshold(rsz, 255, cv2.ADAPTIVE_THRESH_MEAN_C, cv2.THRESH_BINARY, 21 , 2)\n",
    "        rsz = cv2.cvtColor(rsz, cv2.COLOR_GRAY2BGR)\n",
    "\n",
    "    image = rsz.copy()\n",
    "    pos_list = []\n",
    "\n",
    "    onMouse = CallbackObject(onMouseExtend)\n",
    "    onMouse.update_kwargs(img=image, pos_list=pos_list)\n",
    "\n",
    "    left, right = None, None\n",
    "    label = label+' ~ Angle'\n",
    "    cv2.namedWindow(label)\n",
    "    cv2.setMouseCallback(label, onMouse)\n",
    "    while True:\n",
    "        cv2.imshow(label, image)\n",
    "        \n",
    "        key = cv2.waitKey(20) & 0xFF\n",
    "        if key == 27: # Escape\n",
    "            # option 2 (preferable)\n",
    "            pos_list.clear()\n",
    "            image[:,:,:] = rsz\n",
    "        elif key in (13, 32): # Enter or Space\n",
    "            if len(pos_list) < 2:\n",
    "                continue\n",
    "            if verbose: print(pos_list)\n",
    "            left, right = pos_list[:2]\n",
    "            break\n",
    "    cv2.destroyAllWindows()\n",
    "    \n",
    "    angle = np.arctan( (right[1]-left[1])/(right[0]-left[0]) ) * 180 / np.pi\n",
    "    if verbose: print(angle)\n",
    "        \n",
    "    img = rotate(img, angle)\n",
    "    \n",
    "    return img\n",
    "\n",
    "def cv_save_image(img, file_name, label, verbose=False):\n",
    "    rsz, ratio = resize_image(img, height=800)\n",
    "    done = False\n",
    "    \n",
    "    label = label+' ~ Result'\n",
    "    cv2.namedWindow(label)\n",
    "\n",
    "    cv2.imshow(label, rsz)\n",
    "\n",
    "    key = cv2.waitKey() & 0xFF\n",
    "    if key == 27: # Escape\n",
    "        done = False\n",
    "    elif key in (13, 32): # Enter or Space\n",
    "        cv2.imwrite(file_name, img)\n",
    "        done = True\n",
    "        \n",
    "    cv2.destroyAllWindows()\n",
    "    \n",
    "    return done"
   ]
  },
  {
   "cell_type": "code",
   "execution_count": 236,
   "metadata": {},
   "outputs": [],
   "source": [
    "def cv2_manual_photo(file_name, iputdir='', oputdir='', label=None):\n",
    "    oputdir = oputdir or iputdir\n",
    "    img = read_image(os.path.join(iputdir, file_name), margin=0)\n",
    "\n",
    "    while True:\n",
    "        img_proc = cv_crop_image(img, label=label, threshold=True)\n",
    "\n",
    "        img_proc = cv_rotate_image(img_proc, label=label, threshold=True)\n",
    "\n",
    "        img_proc = cv_crop_image(img_proc, label=label, threshold=True)\n",
    "        \n",
    "        if cv_save_image(img_proc, os.path.join(oputdir, file_name.replace('_orig.png', '.png')), label=label):\n",
    "            break"
   ]
  },
  {
   "cell_type": "code",
   "execution_count": 237,
   "metadata": {
    "scrolled": false
   },
   "outputs": [
    {
     "name": "stdout",
     "output_type": "stream",
     "text": [
      "Done!\n"
     ]
    }
   ],
   "source": [
    "iputdir = 'photo_2_crop'\n",
    "\n",
    "png_name_list = [png for png in os.listdir(iputdir) if png.endswith('_orig.png')]\n",
    "for i, png_name in enumerate(png_name_list, start=1):\n",
    "    cv2_manual_photo(png_name, iputdir, label='[{} of {}] {}'.format(i, len(png_name_list), png_name))\n",
    "        \n",
    "print(\"Done!\")"
   ]
  }
 ],
 "metadata": {
  "kernelspec": {
   "display_name": "grigorygunko_textextractor_python395",
   "language": "python",
   "name": "grigorygunko_textextractor_python395"
  },
  "language_info": {
   "codemirror_mode": {
    "name": "ipython",
    "version": 3
   },
   "file_extension": ".py",
   "mimetype": "text/x-python",
   "name": "python",
   "nbconvert_exporter": "python",
   "pygments_lexer": "ipython3",
   "version": "3.9.5"
  }
 },
 "nbformat": 4,
 "nbformat_minor": 4
}
