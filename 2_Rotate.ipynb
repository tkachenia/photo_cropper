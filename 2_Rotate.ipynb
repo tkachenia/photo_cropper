{
 "cells": [
  {
   "cell_type": "code",
   "execution_count": null,
   "metadata": {},
   "outputs": [],
   "source": [
    "import os\n",
    "from PIL import Image\n",
    "import numpy as np\n",
    "from tqdm import tqdm"
   ]
  },
  {
   "cell_type": "code",
   "execution_count": null,
   "metadata": {},
   "outputs": [],
   "source": [
    "%load_ext watermark\n",
    "%watermark -v -m -p numpy,PIL"
   ]
  },
  {
   "cell_type": "code",
   "execution_count": null,
   "metadata": {},
   "outputs": [],
   "source": [
    "workdir = \"photo_1_png_samples\"\n",
    "\n",
    "oputdir = workdir.replace('samples', 'rotated')\n",
    "os.makedirs(oputdir, exist_ok=True)"
   ]
  },
  {
   "cell_type": "code",
   "execution_count": null,
   "metadata": {},
   "outputs": [],
   "source": [
    "for png_name in tqdm([png for png in os.listdir(workdir) if png.endswith('.png')]):\n",
    "    image = Image.open(os.path.join(workdir, png_name))\n",
    "    angle = np.random.randint(5, 15)\n",
    "    sign  = np.sign(np.random.normal())\n",
    "    \n",
    "    rotated = image.rotate(sign*angle, expand=True, fillcolor=(255,255,255))\n",
    "    \n",
    "    rotated.save(os.path.join(oputdir, png_name))\n",
    "                \n",
    "print(\"Done!\")"
   ]
  },
  {
   "cell_type": "code",
   "execution_count": null,
   "metadata": {},
   "outputs": [],
   "source": []
  }
 ],
 "metadata": {
  "kernelspec": {
   "display_name": "grigorygunko_textextractor_python395",
   "language": "python",
   "name": "grigorygunko_textextractor_python395"
  },
  "language_info": {
   "codemirror_mode": {
    "name": "ipython",
    "version": 3
   },
   "file_extension": ".py",
   "mimetype": "text/x-python",
   "name": "python",
   "nbconvert_exporter": "python",
   "pygments_lexer": "ipython3",
   "version": "3.9.5"
  }
 },
 "nbformat": 4,
 "nbformat_minor": 4
}
